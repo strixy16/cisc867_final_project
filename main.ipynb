{
 "cells": [
  {
   "cell_type": "markdown",
   "metadata": {},
   "source": [
    "# Environment Setup"
   ]
  },
  {
   "cell_type": "code",
   "execution_count": null,
   "metadata": {},
   "outputs": [],
   "source": [
    "# Might need to run these in Jupyter the first time this is run for sksurv \n",
    "# !pip install cmake\n",
    "# !pip install scikit-survival"
   ]
  },
  {
   "cell_type": "code",
   "execution_count": 2,
   "metadata": {},
   "outputs": [],
   "source": [
    "import math\n",
    "import matplotlib.pyplot as plt\n",
    "import numpy as np\n",
    "import pandas as pd\n",
    "import seaborn as sns\n",
    "from skimage.transform import resize\n",
    "from sksurv.linear_model import CoxPHSurvivalAnalysis\n",
    "from sksurv.metrics import concordance_index_censored\n",
    "from sksurv.nonparametric import kaplan_meier_estimator\n",
    "import sys\n",
    "import tensorflow as tf \n",
    "from tensorflow.keras.models import Model, Sequential\n",
    "from tensorflow.keras.layers import Conv2D, Flatten, Dense, Dropout, Input, MaxPool2D\n",
    "from tensorflow.keras.optimizers import Adam\n",
    "import tensorflow.compat.v2.summary as summary\n",
    "from tensorflow.python.ops import summary_ops_v2\n",
    "from tqdm import tqdm\n",
    "from typing import Any, Dict, Iterable, Sequence, Tuple, Optional, Union\n"
   ]
  },
  {
   "cell_type": "code",
   "execution_count": 69,
   "metadata": {},
   "outputs": [],
   "source": [
    "# sys.path.append(\".\")\n",
    "\n",
    "from patient_data_split import pat_train_test_split\n",
    "from input_function import InputFunction\n",
    "import cph_loss\n",
    "import cindex_metric"
   ]
  },
  {
   "cell_type": "code",
   "execution_count": null,
   "metadata": {},
   "outputs": [],
   "source": [
    "# pip install import_ipynb"
   ]
  },
  {
   "cell_type": "markdown",
   "metadata": {},
   "source": [
    "# Data Loading and Setup"
   ]
  },
  {
   "cell_type": "code",
   "execution_count": 10,
   "metadata": {},
   "outputs": [],
   "source": [
    "# Constants for development\n",
    "FILESTOLOAD = 2888 # 2888 is all of them\n",
    "imdim_from_preprocessing = 256 # must match opt.ImageSize in image preprocessing configuration files\n",
    "imdim_for_network = 256\n",
    "random_seed = 16"
   ]
  },
  {
   "cell_type": "code",
   "execution_count": 11,
   "metadata": {},
   "outputs": [
    {
     "name": "stdout",
     "output_type": "stream",
     "text": [
      "/Users/katyscott/Documents/ICC/Data/Labels/256/RFS_all_tumors_zero.csv\n"
     ]
    }
   ],
   "source": [
    "testpath = \"/Users/katyscott/Documents/ICC/Data/Labels/\" + str(imdim_from_preprocessing) +\"/RFS_all_tumors_zero.csv\"\n",
    "print(testpath)"
   ]
  },
  {
   "cell_type": "code",
   "execution_count": 12,
   "metadata": {},
   "outputs": [],
   "source": [
    "# Path to CSVs that connect patient id to slices and rfs label\n",
    "zero_info_path = \"/Users/katyscott/Documents/ICC/Data/Labels/\" + str(imdim_from_preprocessing) +\"/RFS_all_tumors_zero.csv\"\n",
    "nan_info_path = \"/Users/katyscott/Documents/ICC/Data/Labels/\" + str(imdim_from_preprocessing) +\"/RFS_all_tumors_NaN.csv\"\n",
    "\n",
    "zero_image_path = '/Users/katyscott/Documents/ICC/Data/Images/Tumors/' + str(imdim_from_preprocessing) + '/Zero/'\n",
    "nan_image_path = '/Users/katyscott/Documents/ICC/Data/Images/Tumors/' + str(imdim_from_preprocessing) + '/NaN/'\n"
   ]
  },
  {
   "cell_type": "code",
   "execution_count": 13,
   "metadata": {},
   "outputs": [
    {
     "name": "stdout",
     "output_type": "stream",
     "text": [
      "(2888,)\n",
      "0.6\n"
     ]
    }
   ],
   "source": [
    "# Reading in info for zero background images\n",
    "info = pd.read_csv(zero_info_path)\n",
    "image_fnames = np.asarray(info.iloc[:, 0])\n",
    "pat_num = np.asarray(info.iloc[:, 1])\n",
    "slice_num = np.asarray(info.iloc[:, 2])\n",
    "rfs_event = np.asarray(info.iloc[:, 3])\n",
    "rfs_time = np.asarray(info.iloc[:, 4])\n",
    "\n",
    "print(rfs_event.shape)\n",
    "print(rfs_time[1])"
   ]
  },
  {
   "cell_type": "code",
   "execution_count": 33,
   "metadata": {},
   "outputs": [],
   "source": [
    "info.rename(columns={\"Pat ID\": \"Pat_ID\", \"Slice Num\": \"Slice_Num\", \"RFS Code\": \"RFS_Code\", \"RFS Time\":\"RFS_Time\"}, inplace=True)"
   ]
  },
  {
   "cell_type": "code",
   "execution_count": 16,
   "metadata": {},
   "outputs": [
    {
     "name": "stderr",
     "output_type": "stream",
     "text": [
      "100%|██████████| 2888/2888 [22:32<00:00,  2.13it/s]\n"
     ]
    }
   ],
   "source": [
    "# Only loading in 100 number of files for development\n",
    "images = np.empty((1,imdim_for_network,imdim_for_network))\n",
    "file_count = 0\n",
    "for image_file in tqdm(image_fnames):\n",
    "    if file_count >= FILESTOLOAD:\n",
    "        break\n",
    "    else:\n",
    "        file_count += 1\n",
    "    #     print(\"Loading: \", image_file)\n",
    "        # Load in file as an numpy array\n",
    "        img = np.fromfile(zero_image_path + image_file)\n",
    "        # Reshape image from 1D to 2D array - need to nothardcode this, square root?\n",
    "        img_2D = np.reshape(img, (imdim_from_preprocessing,imdim_from_preprocessing))\n",
    "        # Scale image to this dimension, smooth image with Gaussian filter, pads with the reflection of the vector\n",
    "        # mirrored on the first and last values of the vector along each axis.\n",
    "        img_final = resize(img_2D, (imdim_for_network, imdim_for_network), anti_aliasing=True, mode='reflect')\n",
    "        # Not sure this next line is working, want an array with all the images as their own array in it\n",
    "        img_final_3D = np.reshape(img_final, (1,) + img_final.shape)\n",
    "        images = np.append(images, img_final_3D, axis=0)\n",
    "\n",
    "images = np.delete(images, 0, axis=0)"
   ]
  },
  {
   "cell_type": "code",
   "execution_count": 44,
   "metadata": {},
   "outputs": [
    {
     "data": {
      "text/plain": [
       "<matplotlib.image.AxesImage at 0x7fcbe8bbb190>"
      ]
     },
     "execution_count": 44,
     "metadata": {},
     "output_type": "execute_result"
    },
    {
     "data": {
      "image/png": "[encoded data removed]",
      "text/plain": [
       "<Figure size 432x288 with 1 Axes>"
      ]
     },
     "metadata": {
      "needs_background": "light"
     },
     "output_type": "display_data"
    }
   ],
   "source": [
    "# Confirming images loaded in properly\n",
    "plt.imshow(images[8], cmap='Greys')"
   ]
  },
  {
   "cell_type": "code",
   "execution_count": null,
   "metadata": {
    "jupyter": {
     "source_hidden": true
    }
   },
   "outputs": [],
   "source": []
  },
  {
   "cell_type": "markdown",
   "metadata": {},
   "source": [
    "## Splitting data for training/testing"
   ]
  },
  {
   "cell_type": "code",
   "execution_count": 75,
   "metadata": {},
   "outputs": [
    {
     "name": "stdout",
     "output_type": "stream",
     "text": [
      "Train:  (1, 2938)\n",
      "Test:  (1, 305)\n"
     ]
    },
    {
     "data": {
      "text/plain": [
       "[array([1137, 1138, 1139, ...,  553,  554,  555])]"
      ]
     },
     "execution_count": 75,
     "metadata": {},
     "output_type": "execute_result"
    }
   ],
   "source": [
    "# Training and testing split\n",
    "split = 0.9\n",
    "train_slice_indices, test_slice_indices = pat_train_test_split(pat_num[:FILESTOLOAD], rfs_event[:FILESTOLOAD], 0.9, random_seed)\n",
    "\n",
    "print(\"Train: \", np.array(train_slice_indices).shape)\n",
    "print(\"Test: \", np.array(test_slice_indices).shape)"
   ]
  },
  {
   "cell_type": "code",
   "execution_count": 71,
   "metadata": {},
   "outputs": [
    {
     "name": "stdout",
     "output_type": "stream",
     "text": [
      "Training set:  (2938, 256, 256)\n",
      "Training time labels:  (2938,)\n",
      "Training event labels:  (2938,)\n",
      "Testing set:  (305, 256, 256)\n",
      "Testing time labels:  (305,)\n",
      "Testing event labels:  (305,)\n"
     ]
    }
   ],
   "source": [
    "train_slices = images[train_slice_indices,:,:]#[:][:]\n",
    "train_slices = train_slices.squeeze() # Remove first dim of size 1\n",
    "\n",
    "train_time = rfs_time[tuple(train_slice_indices)]\n",
    "train_event = rfs_event[tuple(train_slice_indices)]\n",
    "print(\"Training set: \", train_slices.shape)\n",
    "print(\"Training time labels: \", train_time.shape)\n",
    "print(\"Training event labels: \", train_event.shape)\n",
    "\n",
    "test_slices = images[test_slice_indices,:,:]\n",
    "test_slices = test_slices.squeeze() # Remove first dim of size 1\n",
    "\n",
    "test_time = rfs_time[tuple(test_slice_indices)]\n",
    "test_event = rfs_event[tuple(test_slice_indices)]\n",
    "print(\"Testing set: \", test_slices.shape)\n",
    "print(\"Testing time labels: \", test_time.shape)\n",
    "print(\"Testing event labels: \", test_event.shape)\n"
   ]
  },
  {
   "cell_type": "markdown",
   "metadata": {},
   "source": [
    "## Linear Regression Analysis"
   ]
  },
  {
   "cell_type": "code",
   "execution_count": 40,
   "metadata": {},
   "outputs": [
    {
     "name": "stdout",
     "output_type": "stream",
     "text": [
      "(2938, 65536)\n",
      "(305, 65536)\n"
     ]
    }
   ],
   "source": [
    "train_1D = np.reshape(train_slices, (train_slices.shape[0], train_slices.shape[1]*train_slices.shape[2]))\n",
    "test_1D = np.reshape(test_slices, (test_slices.shape[0], test_slices.shape[1]*test_slices.shape[2]))\n",
    "# train_1D = train_1D[0:100,:]\n",
    "# linreg_labels = train_event[0:100]\n",
    "print(train_1D.shape)\n",
    "print(test_1D.shape)"
   ]
  },
  {
   "cell_type": "code",
   "execution_count": 38,
   "metadata": {},
   "outputs": [],
   "source": [
    "import numpy as np\n",
    "import matplotlib.pyplot as plt\n",
    "from sklearn.linear_model import LinearRegression\n",
    "from sklearn.metrics import mean_squared_error, r2_score\n",
    "\n",
    "\n",
    "regression_model = LinearRegression().fit(train_1D, train_event)\n",
    "regression_model.score(test_1D, test_event)"
   ]
  },
  {
   "cell_type": "markdown",
   "metadata": {},
   "source": [
    "## Data Exploration"
   ]
  },
  {
   "cell_type": "code",
   "execution_count": null,
   "metadata": {},
   "outputs": [],
   "source": [
    "# Distribution plots for slice level labels, total dataset\n",
    "slice_rfs_code_plt = sns.displot(info, x=\"RFS_Code\")\n",
    "plt.xticks([0,1])\n",
    "plt.xlabel(\"RFS Code\")\n",
    "plt.title(\"Slice RFS Code\")\n",
    "\n",
    "slice_rfs_time_plt = sns.displot(info, x=\"RFS_Time\")\n",
    "plt.xlabel(\"RFS Time (months)\")\n",
    "plt.title(\"Slice RFS Time\")\n",
    "\n",
    "# Distribution plots for patient level labels, total dataset\n",
    "pat_info = info.drop_duplicates(\"Pat_ID\")\n",
    "pat_rfs_code_plt = sns.displot(pat_info, x=\"RFS_Code\")\n",
    "plt.xticks([0,1])\n",
    "plt.xlabel(\"RFS Code\")\n",
    "plt.title(\"Patient RFS Code\")\n",
    "\n",
    "pat_rfs_time_plt = sns.displot(pat_info, x=\"RFS_Time\", )\n",
    "plt.xlabel(\"RFS Time (months)\")\n",
    "plt.title(\"Patient RFS Time\")"
   ]
  },
  {
   "cell_type": "code",
   "execution_count": null,
   "metadata": {},
   "outputs": [],
   "source": [
    "# Getting label info for train and testing sets\n",
    "training_info = info.iloc[train_slice_indices[0]]\n",
    "testing_info = info.iloc[test_slice_indices[0]]\n",
    "\n",
    "# Distribution plots for slice level labels, training set\n",
    "trainslice_rfs_code_plt = sns.displot(training_info, x=\"RFS_Code\")\n",
    "plt.xticks([0,1])\n",
    "plt.xlabel(\"RFS Code\")\n",
    "plt.title(\"Training Set - Slice RFS Code\")\n",
    "\n",
    "trainslice_rfs_time_plt = sns.displot(training_info, x=\"RFS_Time\")\n",
    "plt.xlabel(\"RFS Time (months)\")\n",
    "plt.title(\"Training Set - Slice RFS Time\")\n",
    "\n",
    "# Distribution plots for patient level labels, training set\n",
    "train_pat_info = training_info.drop_duplicates(\"Pat_ID\")\n",
    "trainpat_rfs_code_plt = sns.displot(train_pat_info, x=\"RFS_Code\")\n",
    "plt.xticks([0,1])\n",
    "plt.xlabel(\"RFS Code\")\n",
    "plt.title(\"Training Set - Patient RFS Code\")\n",
    "\n",
    "trainpat_rfs_time_plt = sns.displot(train_pat_info, x=\"RFS_Time\", )\n",
    "plt.xlabel(\"RFS Time (months)\")\n",
    "plt.title(\"Training Set - Patient RFS Time\")\n",
    "\n",
    "# Distribution plots for slice level labels, testing set\n",
    "testslice_rfs_code_plt = sns.displot(testing_info, x=\"RFS_Code\")\n",
    "plt.xticks([0,1])\n",
    "plt.xlabel(\"RFS Code\")\n",
    "plt.title(\"Testing Set - Slice RFS Code\")\n",
    "\n",
    "testslice_rfs_time_plt = sns.displot(testing_info, x=\"RFS_Time\")\n",
    "plt.xlabel(\"RFS Time (months)\")\n",
    "plt.title(\"Testing Set - Slice RFS Time\")\n",
    "\n",
    "# Distribution plots for patient level labels, testing set\n",
    "test_pat_info = testing_info.drop_duplicates(\"Pat_ID\")\n",
    "trainpat_rfs_code_plt = sns.displot(test_pat_info, x=\"RFS_Code\")\n",
    "plt.xticks([0,1])\n",
    "plt.xlabel(\"RFS Code\")\n",
    "plt.title(\"Testing Set - Patient RFS Code\")\n",
    "\n",
    "testpat_rfs_time_plt = sns.displot(test_pat_info, x=\"RFS_Time\", )\n",
    "plt.xlabel(\"RFS Time (months)\")\n",
    "plt.title(\"Testing Set - Patient RFS Time\")\n"
   ]
  },
  {
   "cell_type": "code",
   "execution_count": null,
   "metadata": {},
   "outputs": [],
   "source": [
    "# Convert rfs_event from numeric to boolean for use in sksurv\n",
    "b_rfs_event = np.array(rfs_event, dtype=bool)\n",
    "# Creating structured array for kaplan_meier_estimator\n",
    "rfs_type = np.dtype([('Status','bool'), ('Time', 'f')])\n",
    "rfs = np.empty(len(rfs_event),dtype=rfs_type)\n",
    "rfs['Status'] = b_rfs_event\n",
    "rfs['Time'] = rfs_time\n",
    "\n",
    "time, survival_prob = kaplan_meier_estimator(rfs['Status'], rfs['Time'])\n",
    "plt.step(time, survival_prob, where=\"post\")\n",
    "plt.ylabel(\"est. probability of survival $\\hat{S}(t)$\")\n",
    "plt.xlabel(\"time in months $t$\")\n",
    "plt.title(\"Kaplan-Meier Survival Curve\")"
   ]
  },
  {
   "cell_type": "code",
   "execution_count": 19,
   "metadata": {},
   "outputs": [
    {
     "data": {
      "text/plain": [
       "(73,)"
      ]
     },
     "execution_count": 19,
     "metadata": {},
     "output_type": "execute_result"
    }
   ],
   "source": [
    "train_time.shape"
   ]
  },
  {
   "cell_type": "code",
   "execution_count": 32,
   "metadata": {},
   "outputs": [],
   "source": [
    "risk_time = _make_riskset(train_time)\n",
    "\n",
    "train_fn = InputFunction(train_slices, train_time, train_event, shuffle = True)"
   ]
  },
  {
   "cell_type": "markdown",
   "metadata": {},
   "source": [
    "# Model Setup"
   ]
  },
  {
   "cell_type": "markdown",
   "metadata": {},
   "source": [
    "## Survival Analysis for Deep Learning tutorial - Sebastian Pölsterl\n",
    "\n",
    "https://k-d-w.org/blog/2019/07/survival-analysis-for-deep-learning/\n",
    "\n",
    "Tensorflow 2 version of code\n",
    "\n",
    "https://nbviewer.jupyter.org/github/sebp/survival-cnn-estimator/blob/master/tutorial_tf2.ipynb"
   ]
  },
  {
   "cell_type": "code",
   "execution_count": null,
   "metadata": {
    "scrolled": true
   },
   "outputs": [],
   "source": [
    "model = Sequential([\n",
    "        Conv2D(6, kernel_size=(5,5), activation='relu', name='conv_1'),\n",
    "        MaxPool2D(pool_size=(2,2)),\n",
    "        Conv2D(16, (5,5), activation='relu', name='conv_2'),\n",
    "        MaxPool2D(pool_size=(2,2)),\n",
    "        Flatten(),\n",
    "        Dense(120, activation='relu', name='dense_1'),\n",
    "        Dense(84, activation='relu', name='dense_2'),\n",
    "        Dense(1, activation='linear', name='dense_3')\n",
    "    ])"
   ]
  },
  {
   "cell_type": "code",
   "execution_count": null,
   "metadata": {},
   "outputs": [],
   "source": [
    "train_fn = InputFunction(x_train, time_train, event_train, drop_last = True, shuffle=True)"
   ]
  },
  {
   "cell_type": "markdown",
   "metadata": {},
   "source": [
    "## DeepConvSurv \n",
    "(Zhu, Yao, & Huang, 2016)\n",
    "\n",
    "https://ieeexplore.ieee.org/stamp/stamp.jsp?arnumber=7822579&casa_token=gVFzncUVfTgAAAAA:hGgPWCTzS2pUnsFG8xEZzZe7lAIupB_Z7SkKDnFJbilFmX1W6Ge5qCipPjiqCynL1lfSs64bVV4"
   ]
  },
  {
   "cell_type": "code",
   "execution_count": null,
   "metadata": {},
   "outputs": [],
   "source": [
    "img_in = Input(shape=(imdim_for_network, imdim_for_network,1))\n",
    "\n",
    "network = Conv2D(filters=32, kernel_size=686, activation='relu', padding='valid')(img_in)\n",
    "network = MaxPool2D(pool_size=(2,2))(network)\n",
    "\n",
    "network = Conv2D(filters=32, kernel_size=88, activation='relu', padding='valid')(network)\n",
    "network = Conv2D(filters=32, kernel_size=43, activation='relu', padding='valid')(network)\n",
    "\n",
    "network = MaxPool2D(pool_size=(2,2))(network)\n",
    "\n",
    "network = Flatten()(network)\n",
    "network = Dense(32, activation='relu')(network)\n",
    "output = Dense(1, activation='exponential')(network)\n",
    "\n",
    "model = Model(inputs=img_in, outputs=output, name=\"deepconvsurv\")\n",
    "model.compile(\n",
    "        optimizer = Adam(),\n",
    "        loss='binary_crossentropy'\n",
    ")\n",
    "model.summary()"
   ]
  },
  {
   "cell_type": "markdown",
   "metadata": {},
   "source": [
    "## Model Training"
   ]
  },
  {
   "cell_type": "code",
   "execution_count": null,
   "metadata": {},
   "outputs": [],
   "source": [
    "print(\"Training model: \" + model.name)\n",
    "\n",
    "epochs = 10\n",
    "batch_size = 32\n",
    "\n",
    "history = model.fit(x = train_slices,\n",
    "                    y = train_labels,\n",
    "                    batch_size = batch_size,\n",
    "                    validation_split = 0.15,\n",
    "                    epochs = epochs,\n",
    "                    verbose = 1 \n",
    "                    )"
   ]
  },
  {
   "cell_type": "code",
   "execution_count": null,
   "metadata": {},
   "outputs": [],
   "source": [
    "# Create AUC metric vs. epoch plot\n",
    "plt.plot(history.history['auc'])\n",
    "plt.plot(history.history['val_auc'])\n",
    "plt.title('model accuracy - ' + model.name)\n",
    "plt.ylabel('AUC')\n",
    "plt.xlabel('epoch')\n",
    "plt.legend(['train', 'test'], loc='upper left')\n",
    "plt.show()"
   ]
  }
 ],
 "metadata": {
  "kernelspec": {
   "display_name": "new_ktenv",
   "language": "python",
   "name": "new_ktenv"
  },
  "language_info": {
   "codemirror_mode": {
    "name": "ipython",
    "version": 3
   },
   "file_extension": ".py",
   "mimetype": "text/x-python",
   "name": "python",
   "nbconvert_exporter": "python",
   "pygments_lexer": "ipython3",
   "version": "3.8.3"
  }
 },
 "nbformat": 4,
 "nbformat_minor": 4
}
