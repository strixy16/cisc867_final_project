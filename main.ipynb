{
 "cells": [
  {
   "cell_type": "markdown",
   "metadata": {},
   "source": [
    "# Environment Setup"
   ]
  },
  {
   "cell_type": "code",
   "execution_count": null,
   "metadata": {},
   "outputs": [],
   "source": [
    "import matplotlib.pyplot as plt\n",
    "import numpy as np\n",
    "import pandas as pd\n",
    "from skimage.transform import resize\n",
    "from tensorflow.keras.models import Model\n",
    "from tensorflow.keras.layers import Conv2D, Flatten, Dense, Dropout, Input, MaxPool2D\n",
    "from tensorflow.keras.optimizers import Adam\n",
    "from tqdm import tqdm"
   ]
  },
  {
   "cell_type": "code",
   "execution_count": 2,
   "metadata": {},
   "outputs": [],
   "source": [
    "from patient_data_split import pat_train_test_split"
   ]
  },
  {
   "cell_type": "markdown",
   "metadata": {},
   "source": [
    "# Data Loading and Setup"
   ]
  },
  {
   "cell_type": "code",
   "execution_count": 3,
   "metadata": {},
   "outputs": [],
   "source": [
    "# Path to csvs that connect patient id to slices and rfs label\n",
    "zero_info_path = '/Users/katyscott/Documents/ICC/Data/Labels/RFS_all_tumors_zero.csv'\n",
    "nan_info_path = '/Users/katyscott/Documents/ICC/Data/Labels/RFS_all_tumors_NaN.csv'\n",
    "\n",
    "zero_image_path = '/Users/katyscott/Documents/ICC/Data/Images/Tumors/Zero/'\n",
    "nan_image_path = '/Users/katyscott/Documents/ICC/Data/Images/Tumors/NaN/'\n"
   ]
  },
  {
   "cell_type": "code",
   "execution_count": 4,
   "metadata": {},
   "outputs": [],
   "source": [
    "# Constants for development\n",
    "FILESTOLOAD = 1000\n",
    "imdim = 224\n",
    "random_seed = 16"
   ]
  },
  {
   "cell_type": "code",
   "execution_count": 5,
   "metadata": {},
   "outputs": [],
   "source": [
    "# Reading in info for zero background images\n",
    "info = pd.read_csv(zero_info_path)\n",
    "image_fnames = np.asarray(info.iloc[:, 0])\n",
    "pat_num = np.asarray(info.iloc[:, 1])\n",
    "slice_num = np.asarray(info.iloc[:, 2])\n",
    "label = np.asarray(info.iloc[:, 3])"
   ]
  },
  {
   "cell_type": "code",
   "execution_count": 13,
   "metadata": {},
   "outputs": [
    {
     "name": "stderr",
     "output_type": "stream",
     "text": [
      "100%|██████████| 2888/2888 [18:10<00:00,  2.65it/s]\n"
     ]
    }
   ],
   "source": [
    "# Only loading in 100 number of files for development\n",
    "images = np.empty((1,imdim,imdim))\n",
    "file_count = 0\n",
    "for image_file in tqdm(image_fnames):\n",
    "#     print(\"Loading: \", image_file)\n",
    "    # Load in file as an numpy array\n",
    "    img = np.fromfile(zero_image_path + image_file)\n",
    "    # Reshape image from 1D to 2D array - need to not hardcode this, square root?\n",
    "    img_2D = np.reshape(img, (299, 299))\n",
    "    # Scale image to this dimension, smooth image with Gaussian filter, pads with the reflection of the vector\n",
    "    # mirrored on the first and last values of the vector along each axis.\n",
    "    img_final = resize(img_2D, (imdim, imdim), anti_aliasing=True, mode='reflect')\n",
    "    # Not sure this next line is working, want an array with all the images as their own array in it\n",
    "    img_final_3D = np.reshape(img_final, (1,) + img_final.shape)\n",
    "    images = np.append(images, img_final_3D, axis=0)\n",
    "\n",
    "images = np.delete(images, 0, axis=0)"
   ]
  },
  {
   "cell_type": "code",
   "execution_count": 15,
   "metadata": {},
   "outputs": [
    {
     "data": {
      "text/plain": [
       "<matplotlib.image.AxesImage at 0x7fccb03f5070>"
      ]
     },
     "execution_count": 15,
     "metadata": {},
     "output_type": "execute_result"
    },
    {
     "data": {
      "image/png": "[encoded data removed]",
      "text/plain": [
       "<Figure size 432x288 with 1 Axes>"
      ]
     },
     "metadata": {
      "needs_background": "light"
     },
     "output_type": "display_data"
    }
   ],
   "source": [
    "# Confirming images loaded in\n",
    "plt.imshow(images[150], cmap='Greys')"
   ]
  },
  {
   "cell_type": "markdown",
   "metadata": {},
   "source": [
    "## Splitting data for training/testing"
   ]
  },
  {
   "cell_type": "code",
   "execution_count": 41,
   "metadata": {},
   "outputs": [],
   "source": [
    "# Training and testing split\n",
    "train_slice_indices, test_slice_indices = pat_train_test_split(pat_num[:FILESTOLOAD], label[:FILESTOLOAD], 70, random_seed)"
   ]
  },
  {
   "cell_type": "code",
   "execution_count": 38,
   "metadata": {},
   "outputs": [
    {
     "data": {
      "text/plain": [
       "(2888, 224, 224)"
      ]
     },
     "execution_count": 38,
     "metadata": {},
     "output_type": "execute_result"
    }
   ],
   "source": [
    "images.shape"
   ]
  },
  {
   "cell_type": "code",
   "execution_count": 42,
   "metadata": {},
   "outputs": [
    {
     "name": "stdout",
     "output_type": "stream",
     "text": [
      "Training set:  (100, 224, 224)\n",
      "Testing set:  (81, 224, 224)\n"
     ]
    }
   ],
   "source": [
    "train_slices = images[train_slice_indices,:,:]#[:][:]\n",
    "train_slices = train_slices.squeeze()\n",
    "print(\"Training set: \", train_slices.shape)\n",
    "\n",
    "test_slices = images[test_slice_indices,:,:]\n",
    "test_slices = test_slices.squeeze()\n",
    "print(\"Testing set: \", test_slices.shape)"
   ]
  },
  {
   "cell_type": "markdown",
   "metadata": {},
   "source": [
    "# Model Setup"
   ]
  },
  {
   "cell_type": "code",
   "execution_count": 20,
   "metadata": {},
   "outputs": [
    {
     "name": "stdout",
     "output_type": "stream",
     "text": [
      "Model: \"conv_simple\"\n",
      "_________________________________________________________________\n",
      "Layer (type)                 Output Shape              Param #   \n",
      "=================================================================\n",
      "input_2 (InputLayer)         [(None, 224, 224, 1)]     0         \n",
      "_________________________________________________________________\n",
      "conv2d_1 (Conv2D)            (None, 224, 224, 8)       208       \n",
      "_________________________________________________________________\n",
      "max_pooling2d (MaxPooling2D) (None, 112, 112, 8)       0         \n",
      "_________________________________________________________________\n",
      "flatten (Flatten)            (None, 100352)            0         \n",
      "_________________________________________________________________\n",
      "dense (Dense)                (None, 1)                 100353    \n",
      "=================================================================\n",
      "Total params: 100,561\n",
      "Trainable params: 100,561\n",
      "Non-trainable params: 0\n",
      "_________________________________________________________________\n"
     ]
    }
   ],
   "source": [
    "# Going to try a really simple model\n",
    "img_in = Input(shape=(imdim, imdim,1)) # [None, imdim, imdim]\n",
    "\n",
    "x = Conv2D(filters=8, kernel_size=5, activation='relu', padding='same')(img_in) # [None, 256, 256, 8]\n",
    "# Max pooling layer, taking max value over 2x2 window \n",
    "x = MaxPool2D(pool_size=(2,2))(x) # [None, 128, 128, 8]\n",
    "\n",
    "# Flattens tensor to vector\n",
    "x = Flatten()(x) # [None, 131072]\n",
    "output = Dense(1, activation='sigmoid')(x) # [None, 1]\n",
    "\n",
    "model = Model(inputs=img_in, outputs=output, name=\"conv_simple\")\n",
    "model.compile(\n",
    "        optimizer = Adam(),\n",
    "        loss='binary_crossentropy',\n",
    "        metrics=['BinaryAccuracy', 'AUC']\n",
    ")\n",
    "model.summary()"
   ]
  },
  {
   "cell_type": "markdown",
   "metadata": {},
   "source": [
    "## Model Training"
   ]
  },
  {
   "cell_type": "code",
   "execution_count": null,
   "metadata": {},
   "outputs": [],
   "source": [
    "print(\"Training model: \" + model.name)\n",
    "\n",
    "history = model.fit(x = \n",
    "                        \n",
    ")\n"
   ]
  }
 ],
 "metadata": {
  "kernelspec": {
   "display_name": "local-venv",
   "language": "python",
   "name": "local-venv"
  },
  "language_info": {
   "codemirror_mode": {
    "name": "ipython",
    "version": 3
   },
   "file_extension": ".py",
   "mimetype": "text/x-python",
   "name": "python",
   "nbconvert_exporter": "python",
   "pygments_lexer": "ipython3",
   "version": "3.8.3"
  }
 },
 "nbformat": 4,
 "nbformat_minor": 4
}
