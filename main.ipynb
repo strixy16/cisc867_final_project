{
 "cells": [
  {
   "cell_type": "markdown",
   "metadata": {},
   "source": [
    "# Environment Setup"
   ]
  },
  {
   "cell_type": "code",
   "execution_count": 1,
   "metadata": {},
   "outputs": [],
   "source": [
    "import matplotlib.pyplot as plt\n",
    "import numpy as np\n",
    "import pandas as pd\n",
    "from skimage.transform import resize\n",
    "from tensorflow.keras.models import Model\n",
    "from tensorflow.keras.layers import Conv2D, Flatten, Dense, Dropout, Input, MaxPool2D\n",
    "from tensorflow.keras.optimizers import Adam\n",
    "from tqdm import tqdm"
   ]
  },
  {
   "cell_type": "code",
   "execution_count": 2,
   "metadata": {},
   "outputs": [],
   "source": [
    "from patient_data_split import pat_train_test_split"
   ]
  },
  {
   "cell_type": "markdown",
   "metadata": {},
   "source": [
    "# Data Loading and Setup"
   ]
  },
  {
   "cell_type": "code",
   "execution_count": 3,
   "metadata": {},
   "outputs": [],
   "source": [
    "# Path to csvs that connect patient id to slices and rfs label\n",
    "zero_info_path = '/Users/katyscott/Documents/ICC/Data/Labels/RFS_all_tumors_zero.csv'\n",
    "nan_info_path = '/Users/katyscott/Documents/ICC/Data/Labels/RFS_all_tumors_NaN.csv'\n",
    "\n",
    "zero_image_path = '/Users/katyscott/Documents/ICC/Data/Images/Tumors/Zero/'\n",
    "nan_image_path = '/Users/katyscott/Documents/ICC/Data/Images/Tumors/NaN/'\n"
   ]
  },
  {
   "cell_type": "code",
   "execution_count": 4,
   "metadata": {},
   "outputs": [],
   "source": [
    "# Constants for development\n",
    "FILESTOLOAD = 1000\n",
    "imdim = 224\n",
    "random_seed = 16"
   ]
  },
  {
   "cell_type": "code",
   "execution_count": 5,
   "metadata": {},
   "outputs": [],
   "source": [
    "# Reading in info for zero background images\n",
    "info = pd.read_csv(zero_info_path)\n",
    "image_fnames = np.asarray(info.iloc[:, 0])\n",
    "pat_num = np.asarray(info.iloc[:, 1])\n",
    "slice_num = np.asarray(info.iloc[:, 2])\n",
    "label = np.asarray(info.iloc[:, 3])"
   ]
  },
  {
   "cell_type": "code",
   "execution_count": 27,
   "metadata": {},
   "outputs": [
    {
     "data": {
      "text/plain": [
       "(2888,)"
      ]
     },
     "execution_count": 27,
     "metadata": {},
     "output_type": "execute_result"
    }
   ],
   "source": [
    "label.shape"
   ]
  },
  {
   "cell_type": "code",
   "execution_count": 8,
   "metadata": {},
   "outputs": [
    {
     "name": "stderr",
     "output_type": "stream",
     "text": [
      " 35%|███▍      | 1000/2888 [02:30<04:43,  6.65it/s]\n"
     ]
    }
   ],
   "source": [
    "# Only loading in 100 number of files for development\n",
    "images = np.empty((1,imdim,imdim))\n",
    "file_count = 0\n",
    "for image_file in tqdm(image_fnames):\n",
    "    if file_count >= FILESTOLOAD:\n",
    "        break\n",
    "    else:\n",
    "        file_count += 1\n",
    "    #     print(\"Loading: \", image_file)\n",
    "        # Load in file as an numpy array\n",
    "        img = np.fromfile(zero_image_path + image_file)\n",
    "        # Reshape image from 1D to 2D array - need to not hardcode this, square root?\n",
    "        img_2D = np.reshape(img, (299, 299))\n",
    "        # Scale image to this dimension, smooth image with Gaussian filter, pads with the reflection of the vector\n",
    "        # mirrored on the first and last values of the vector along each axis.\n",
    "        img_final = resize(img_2D, (imdim, imdim), anti_aliasing=True, mode='reflect')\n",
    "        # Not sure this next line is working, want an array with all the images as their own array in it\n",
    "        img_final_3D = np.reshape(img_final, (1,) + img_final.shape)\n",
    "        images = np.append(images, img_final_3D, axis=0)\n",
    "\n",
    "images = np.delete(images, 0, axis=0)"
   ]
  },
  {
   "cell_type": "code",
   "execution_count": 9,
   "metadata": {},
   "outputs": [
    {
     "data": {
      "text/plain": [
       "<matplotlib.image.AxesImage at 0x7f7f3a5dab20>"
      ]
     },
     "execution_count": 9,
     "metadata": {},
     "output_type": "execute_result"
    },
    {
     "data": {
      "image/png": "[encoded data removed]",
      "text/plain": [
       "<Figure size 432x288 with 1 Axes>"
      ]
     },
     "metadata": {
      "needs_background": "light"
     },
     "output_type": "display_data"
    }
   ],
   "source": [
    "# Confirming images loaded in\n",
    "plt.imshow(images[150], cmap='Greys')"
   ]
  },
  {
   "cell_type": "markdown",
   "metadata": {},
   "source": [
    "## Splitting data for training/testing"
   ]
  },
  {
   "cell_type": "code",
   "execution_count": 22,
   "metadata": {},
   "outputs": [],
   "source": [
    "# Training and testing split\n",
    "train_slice_indices, test_slice_indices = pat_train_test_split(pat_num[:FILESTOLOAD], label[:FILESTOLOAD], 0.7, random_seed)"
   ]
  },
  {
   "cell_type": "code",
   "execution_count": 23,
   "metadata": {},
   "outputs": [
    {
     "name": "stdout",
     "output_type": "stream",
     "text": [
      "Train:  (1, 700)\n",
      "Test:  (1, 300)\n"
     ]
    }
   ],
   "source": [
    "print(\"Train: \", np.array(train_slice_indices).shape)\n",
    "print(\"Test: \", np.array(test_slice_indices).shape)"
   ]
  },
  {
   "cell_type": "code",
   "execution_count": 32,
   "metadata": {},
   "outputs": [
    {
     "name": "stdout",
     "output_type": "stream",
     "text": [
      "Training set:  (700, 224, 224)\n",
      "Training labels:  (700,)\n",
      "Testing set:  (300, 224, 224)\n",
      "Testing labels:  (300,)\n"
     ]
    }
   ],
   "source": [
    "train_slices = images[train_slice_indices,:,:]#[:][:]\n",
    "train_slices = train_slices.squeeze() # Remove first dim of size 1\n",
    "\n",
    "train_labels = label[tuple(train_slice_indices)]\n",
    "print(\"Training set: \", train_slices.shape)\n",
    "print(\"Training labels: \", train_labels.shape)\n",
    "\n",
    "test_slices = images[test_slice_indices,:,:]\n",
    "test_slices = test_slices.squeeze() # Remove first dim of size 1\n",
    "\n",
    "test_labels = label[tuple(test_slice_indices)]\n",
    "print(\"Testing set: \", test_slices.shape)\n",
    "print(\"Testing labels: \", test_labels.shape)\n",
    "\n",
    "\n"
   ]
  },
  {
   "cell_type": "code",
   "execution_count": 39,
   "metadata": {},
   "outputs": [
    {
     "data": {
      "text/plain": [
       "<matplotlib.image.AxesImage at 0x7f7f3bce8eb0>"
      ]
     },
     "execution_count": 39,
     "metadata": {},
     "output_type": "execute_result"
    },
    {
     "data": {
      "image/png": "[encoded data removed]",
      "text/plain": [
       "<Figure size 432x288 with 1 Axes>"
      ]
     },
     "metadata": {
      "needs_background": "light"
     },
     "output_type": "display_data"
    }
   ],
   "source": [
    "plt.imshow(train_slices[0])"
   ]
  },
  {
   "cell_type": "markdown",
   "metadata": {},
   "source": [
    "# Model Setup"
   ]
  },
  {
   "cell_type": "code",
   "execution_count": 36,
   "metadata": {},
   "outputs": [],
   "source": [
    "# Going to try a really simple model\n",
    "img_in = Input(shape=(imdim, imdim,1)) # [None, imdim, imdim]\n",
    "\n",
    "x = Conv2D(filters=8, kernel_size=5, activation='relu', padding='same')(img_in) # [None, 256, 256, 8]\n",
    "# Max pooling layer, taking max value over 2x2 window \n",
    "x = MaxPool2D(pool_size=(2,2))(x) # [None, 128, 128, 8]\n",
    "\n",
    "# Flattens tensor to vector\n",
    "x = Flatten()(x) # [None, 131072]\n",
    "output = Dense(1, activation='sigmoid')(x) # [None, 1]\n",
    "\n",
    "model = Model(inputs=img_in, outputs=output, name=\"conv_simple\")\n",
    "model.compile(\n",
    "        optimizer = Adam(),\n",
    "        loss='binary_crossentropy',\n",
    "        metrics=['BinaryAccuracy', 'AUC']\n",
    ")\n",
    "# model.summary()"
   ]
  },
  {
   "cell_type": "markdown",
   "metadata": {},
   "source": [
    "## Model Training"
   ]
  },
  {
   "cell_type": "code",
   "execution_count": 37,
   "metadata": {},
   "outputs": [
    {
     "name": "stdout",
     "output_type": "stream",
     "text": [
      "Training model: conv_simple\n",
      "Epoch 1/10\n",
      "19/19 [==============================] - 3s 130ms/step - loss: 2.6690 - binary_accuracy: 0.9063 - auc: 0.5857 - val_loss: 0.0061 - val_binary_accuracy: 1.0000 - val_auc: 0.0000e+00\n",
      "Epoch 2/10\n",
      "19/19 [==============================] - 2s 118ms/step - loss: 0.3531 - binary_accuracy: 0.9708 - auc: 0.6773 - val_loss: 0.0049 - val_binary_accuracy: 1.0000 - val_auc: 0.0000e+00\n",
      "Epoch 3/10\n",
      "19/19 [==============================] - 2s 121ms/step - loss: 0.0992 - binary_accuracy: 0.9877 - auc: 0.8651 - val_loss: 0.0476 - val_binary_accuracy: 0.9714 - val_auc: 0.0000e+00\n",
      "Epoch 4/10\n",
      "19/19 [==============================] - 2s 117ms/step - loss: 0.0671 - binary_accuracy: 0.9844 - auc: 0.9224 - val_loss: 0.0364 - val_binary_accuracy: 0.9810 - val_auc: 0.0000e+00\n",
      "Epoch 5/10\n",
      "19/19 [==============================] - 2s 117ms/step - loss: 0.0382 - binary_accuracy: 0.9900 - auc: 0.9251 - val_loss: 0.0601 - val_binary_accuracy: 0.9619 - val_auc: 0.0000e+00\n",
      "Epoch 6/10\n",
      "19/19 [==============================] - 2s 116ms/step - loss: 0.0107 - binary_accuracy: 0.9993 - auc: 0.9997 - val_loss: 0.0447 - val_binary_accuracy: 0.9714 - val_auc: 0.0000e+00\n",
      "Epoch 7/10\n",
      "19/19 [==============================] - 2s 119ms/step - loss: 0.0095 - binary_accuracy: 1.0000 - auc: 1.0000 - val_loss: 0.0396 - val_binary_accuracy: 0.9714 - val_auc: 0.0000e+00\n",
      "Epoch 8/10\n",
      "19/19 [==============================] - 2s 117ms/step - loss: 0.0068 - binary_accuracy: 1.0000 - auc: 1.0000 - val_loss: 0.0394 - val_binary_accuracy: 0.9714 - val_auc: 0.0000e+00\n",
      "Epoch 9/10\n",
      "19/19 [==============================] - 2s 119ms/step - loss: 0.0034 - binary_accuracy: 1.0000 - auc: 0.9000 - val_loss: 0.0362 - val_binary_accuracy: 0.9714 - val_auc: 0.0000e+00\n",
      "Epoch 10/10\n",
      "19/19 [==============================] - 2s 120ms/step - loss: 0.0059 - binary_accuracy: 1.0000 - auc: 1.0000 - val_loss: 0.0366 - val_binary_accuracy: 0.9714 - val_auc: 0.0000e+00\n"
     ]
    }
   ],
   "source": [
    "print(\"Training model: \" + model.name)\n",
    "\n",
    "epochs = 10\n",
    "batch_size = 32\n",
    "\n",
    "history = model.fit(x = train_slices,\n",
    "                    y = train_labels,\n",
    "                    batch_size = batch_size,\n",
    "                    validation_split = 0.15,\n",
    "                    epochs = epochs,\n",
    "                    verbose = 1 \n",
    "                    )"
   ]
  },
  {
   "cell_type": "code",
   "execution_count": 38,
   "metadata": {},
   "outputs": [
    {
     "data": {
      "image/png": "[encoded data removed]",
      "text/plain": [
       "<Figure size 432x288 with 1 Axes>"
      ]
     },
     "metadata": {
      "needs_background": "light"
     },
     "output_type": "display_data"
    }
   ],
   "source": [
    "# Create AUC metric vs. epoch plot\n",
    "plt.plot(history.history['auc'])\n",
    "plt.plot(history.history['val_auc'])\n",
    "plt.title('model accuracy - ' + model.name)\n",
    "plt.ylabel('AUC')\n",
    "plt.xlabel('epoch')\n",
    "plt.legend(['train', 'test'], loc='upper left')\n",
    "plt.show()"
   ]
  }
 ],
 "metadata": {
  "kernelspec": {
   "display_name": "local-venv",
   "language": "python",
   "name": "local-venv"
  },
  "language_info": {
   "codemirror_mode": {
    "name": "ipython",
    "version": 3
   },
   "file_extension": ".py",
   "mimetype": "text/x-python",
   "name": "python",
   "nbconvert_exporter": "python",
   "pygments_lexer": "ipython3",
   "version": "3.8.3"
  }
 },
 "nbformat": 4,
 "nbformat_minor": 4
}
